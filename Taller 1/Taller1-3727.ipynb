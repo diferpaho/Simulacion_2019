{
 "cells": [
  {
   "cell_type": "markdown",
   "metadata": {},
   "source": [
    "# T1 - Taller 1.Implementación de generadores de números pseudoaleatorios"
   ]
  },
  {
   "cell_type": "markdown",
   "metadata": {},
   "source": [
    "Diego Fernando Palacios Hoyos\n",
    "160003727\n"
   ]
  },
  {
   "cell_type": "markdown",
   "metadata": {},
   "source": [
    "1. Implementar el generador de números pseudoaleatorios con el método de MidSquare\n",
    "\n",
    "Semilla= 3708\n",
    "Numeros aleatorios= 10"
   ]
  },
  {
   "cell_type": "code",
   "execution_count": 3,
   "metadata": {},
   "outputs": [
    {
     "name": "stdout",
     "output_type": "stream",
     "text": [
      "Ingresa un semilla: 3708\n",
      "¿Cuantos numeros?  10\n",
      "0.7492\n",
      "0.13\n",
      "0.69\n",
      "0.61\n",
      "0.21\n",
      "0.41\n",
      "0.81\n",
      "0.61\n",
      "0.21\n",
      "0.41\n"
     ]
    }
   ],
   "source": [
    "dato = input(\"Ingresa un semilla: \")\n",
    "N = input(\"¿Cuantos numeros?  \")\n",
    "i=0\n",
    "final=[]\n",
    "l=int(len(dato))\n",
    "\n",
    "while i<int(N):\n",
    "    cuadrado=str(int(dato)*int(dato))\n",
    "    n=len(cuadrado)\n",
    "    if l==4:\n",
    "        uno=int(cuadrado[n-3])\n",
    "        dos=int(cuadrado[n-4])*10\n",
    "        tres=int(cuadrado[n-5])*100\n",
    "        cuatro=int(cuadrado[n-6])*1000\n",
    "        numero=(uno+dos+tres+cuatro)\n",
    "        print(numero/10000)\n",
    "        final.append(numero/10000)\n",
    "            \n",
    "        \n",
    "        if l==6:\n",
    "            uno=int(cuadrado[n-4])\n",
    "            dos=int(cuadrado[n-5])*10\n",
    "            tres=int(cuadrado[n-6])*100\n",
    "            cuatro=int(cuadrado[n-7])*1000\n",
    "            cinco=int(cuadrado[n-8])*10000\n",
    "            seis=int(cuadrado[n-9])*100000\n",
    "            numero=(uno+dos+tres+cuatro+cinco+seis)\n",
    "            print(numero/1000000)\n",
    "            final.append(numero/1000000)\n",
    "    i=i+1\n",
    "    dato=numero\n",
    "    \n"
   ]
  },
  {
   "cell_type": "markdown",
   "metadata": {},
   "source": [
    "2. Implementar el generador congruencial mixto\n",
    "\n",
    "Semilla=7\n",
    "a=5\n",
    "c=3\n",
    "m=16\n",
    "Numeros aleatorios= 10"
   ]
  },
  {
   "cell_type": "code",
   "execution_count": 4,
   "metadata": {},
   "outputs": [
    {
     "name": "stdout",
     "output_type": "stream",
     "text": [
      "Ingresa un semilla: 7\n",
      "Ingresa a: 5\n",
      "Ingresa c: 3\n",
      "Ingresa m: 16\n",
      "¿Cuantos numeros? 10\n",
      "0.375\n",
      "0.0625\n",
      "0.5\n",
      "0.6875\n",
      "0.625\n",
      "0.3125\n",
      "0.75\n",
      "0.9375\n",
      "0.875\n",
      "0.5625\n"
     ]
    }
   ],
   "source": [
    "x = input(\"Ingresa un semilla: \")\n",
    "a = input(\"Ingresa a: \")\n",
    "c = input(\"Ingresa c: \")\n",
    "m = input(\"Ingresa m: \")\n",
    "N = input(\"¿Cuantos numeros? \")\n",
    "i=1\n",
    "final=[]\n",
    "\n",
    "while i<=int(N): \n",
    "    xn=int(a)*int(x)\n",
    "    xi=(xn+int(c))%int(m)\n",
    "    ui=xi/int(m)\n",
    "    print(ui)\n",
    "    i=i+1\n",
    "    x=xi\n",
    "    final.append(ui)"
   ]
  },
  {
   "cell_type": "markdown",
   "metadata": {},
   "source": [
    "3. Implementar una función para calcular el ciclo de cualquier generador de números pseudoaleatorios\n",
    "\n",
    "Ejemplo1:"
   ]
  },
  {
   "cell_type": "code",
   "execution_count": 12,
   "metadata": {},
   "outputs": [
    {
     "name": "stdout",
     "output_type": "stream",
     "text": [
      "Ingresa un semilla: 3708\n",
      "¿Cuantos numeros?  10\n",
      "0.7492\n",
      "0.13\n",
      "0.69\n",
      "0.61\n",
      "0.21\n",
      "0.41\n",
      "0.81\n",
      "0.61\n",
      "0.21\n",
      "0.41\n",
      "El ciclo que se repite es:  [0.61, 0.21, 0.41] El tamaño del ciclo es:  3\n"
     ]
    }
   ],
   "source": [
    "def ciclo(numeros,N):\n",
    "    i=0\n",
    "    final=[]\n",
    "    r1=0\n",
    "    r2=0\n",
    "    while i<int(N):\n",
    "        j=i+1\n",
    "        while j<int(N):\n",
    "            if numeros[i]==numeros[j]:\n",
    "                r1=i\n",
    "                r2=j\n",
    "                j=int(N)-1\n",
    "                i=int(N)-1\n",
    "                \n",
    "            j=j+1\n",
    "        i=i+1\n",
    "    N=int(N)-r2\n",
    "    tamaño=0    \n",
    "    if r1 !=0:\n",
    "        \n",
    "        x=0\n",
    "        while x < N:\n",
    "            #print(x,r1,r2)\n",
    "            if numeros[r1]==numeros[r2]:\n",
    "                final.append(numeros[r1])\n",
    "                tamaño=tamaño+1\n",
    "            x=x+1\n",
    "            r1=r1+1\n",
    "            r2=r2+1\n",
    "                \n",
    "        print(\"El ciclo que se repite es: \",final,\"El tamaño del ciclo es: \",tamaño)\n",
    "    if r1 == 0:\n",
    "        print(\"No hay ciclo\")\n",
    "                \n",
    "        \n",
    "  \n",
    "        \n",
    "        \n",
    "dato = input(\"Ingresa un semilla: \")\n",
    "N = input(\"¿Cuantos numeros?  \")\n",
    "i=0\n",
    "final=[]\n",
    "l=int(len(dato))\n",
    "\n",
    "while i<int(N):\n",
    "    cuadrado=str(int(dato)*int(dato))\n",
    "    n=len(cuadrado)\n",
    "    if l==4:\n",
    "        uno=int(cuadrado[n-3])\n",
    "        dos=int(cuadrado[n-4])*10\n",
    "        tres=int(cuadrado[n-5])*100\n",
    "        cuatro=int(cuadrado[n-6])*1000\n",
    "        numero=(uno+dos+tres+cuatro)\n",
    "        print(numero/10000)\n",
    "        final.append(numero/10000)\n",
    "            \n",
    "        \n",
    "        if l==6:\n",
    "            uno=int(cuadrado[n-4])\n",
    "            dos=int(cuadrado[n-5])*10\n",
    "            tres=int(cuadrado[n-6])*100\n",
    "            cuatro=int(cuadrado[n-7])*1000\n",
    "            cinco=int(cuadrado[n-8])*10000\n",
    "            seis=int(cuadrado[n-9])*100000\n",
    "            numero=(uno+dos+tres+cuatro+cinco+seis)\n",
    "            print(numero/1000000)\n",
    "            final.append(numero/1000000)\n",
    "    i=i+1\n",
    "    dato=numero\n",
    "    \n",
    "\n",
    "ciclo(final,N)\n"
   ]
  },
  {
   "cell_type": "markdown",
   "metadata": {},
   "source": [
    "Ejemplo 2:\n"
   ]
  },
  {
   "cell_type": "code",
   "execution_count": 13,
   "metadata": {},
   "outputs": [
    {
     "name": "stdout",
     "output_type": "stream",
     "text": [
      "Ingresa un semilla: 7\n",
      "Ingresa a: 5\n",
      "Ingresa c: 3\n",
      "Ingresa m: 16\n",
      "¿Cuantos numeros? 10\n",
      "0.375\n",
      "0.0625\n",
      "0.5\n",
      "0.6875\n",
      "0.625\n",
      "0.3125\n",
      "0.75\n",
      "0.9375\n",
      "0.875\n",
      "0.5625\n",
      "No hay ciclo\n"
     ]
    }
   ],
   "source": [
    "def ciclo(numeros,N):\n",
    "    i=0\n",
    "    final=[]\n",
    "    r1=0\n",
    "    r2=0\n",
    "    while i<int(N):\n",
    "        j=i+1\n",
    "        while j<int(N):\n",
    "            if numeros[i]==numeros[j]:\n",
    "                r1=i\n",
    "                r2=j\n",
    "                j=int(N)-1\n",
    "                i=int(N)-1\n",
    "                \n",
    "            j=j+1\n",
    "        i=i+1\n",
    "    N=int(N)-r2\n",
    "    tamaño=0    \n",
    "    if r1 !=0:\n",
    "        \n",
    "        x=0\n",
    "        while x < N:\n",
    "            #print(x,r1,r2)\n",
    "            if numeros[r1]==numeros[r2]:\n",
    "                final.append(numeros[r1])\n",
    "                tamaño=tamaño+1\n",
    "            x=x+1\n",
    "            r1=r1+1\n",
    "            r2=r2+1\n",
    "                \n",
    "        print(\"El ciclo que se repite es: \",final,\"El tamaño del ciclo es: \",tamaño)\n",
    "    if r1 == 0:\n",
    "        print(\"No hay ciclo\")\n",
    "          \n",
    "\n",
    "x = input(\"Ingresa un semilla: \")\n",
    "a = input(\"Ingresa a: \")\n",
    "c = input(\"Ingresa c: \")\n",
    "m = input(\"Ingresa m: \")\n",
    "N = input(\"¿Cuantos numeros? \")\n",
    "i=1\n",
    "final=[]\n",
    "\n",
    "while i<=int(N): \n",
    "    xn=int(a)*int(x)\n",
    "    xi=(xn+int(c))%int(m)\n",
    "    ui=xi/int(m)\n",
    "    print(ui)\n",
    "    i=i+1\n",
    "    x=xi\n",
    "    final.append(ui)\n",
    "    \n",
    "ciclo(final,N)"
   ]
  },
  {
   "cell_type": "markdown",
   "metadata": {},
   "source": [
    "# resultados\n",
    "\n",
    "En el ejemplo 1:\n",
    "El ciclo que se repite es:  [0.61, 0.21, 0.41] El tamaño del ciclo es:  3\n",
    "\n",
    "En el ejemplo 2:\n",
    "No hay ciclo"
   ]
  }
 ],
 "metadata": {
  "kernelspec": {
   "display_name": "Python 3",
   "language": "python",
   "name": "python3"
  },
  "language_info": {
   "codemirror_mode": {
    "name": "ipython",
    "version": 3
   },
   "file_extension": ".py",
   "mimetype": "text/x-python",
   "name": "python",
   "nbconvert_exporter": "python",
   "pygments_lexer": "ipython3",
   "version": "3.7.3"
  }
 },
 "nbformat": 4,
 "nbformat_minor": 2
}
